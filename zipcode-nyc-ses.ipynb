{
 "cells": [
  {
   "cell_type": "code",
   "execution_count": 13,
   "metadata": {},
   "outputs": [],
   "source": [
    "import pandas as pd"
   ]
  },
  {
   "cell_type": "code",
   "execution_count": 14,
   "metadata": {},
   "outputs": [],
   "source": [
    "df = pd.read_csv(\"17zpallagi.csv\", low_memory=False)"
   ]
  },
  {
   "cell_type": "code",
   "execution_count": 15,
   "metadata": {},
   "outputs": [
    {
     "name": "stdout",
     "output_type": "stream",
     "text": [
      "           C/A  UNIT        STATION LINENAME        DATE      TIME  ent_diff  \\\n",
      "0         A002  R051          59 ST  NQR456W  01/04/2020  07:00:00        11   \n",
      "1         A002  R051          59 ST  NQR456W  01/04/2020  11:00:00        57   \n",
      "2         A002  R051          59 ST  NQR456W  01/04/2020  15:00:00       173   \n",
      "3         A002  R051          59 ST  NQR456W  01/04/2020  19:00:00       305   \n",
      "4         A002  R051          59 ST  NQR456W  01/04/2020  23:00:00       192   \n",
      "...        ...   ...            ...      ...         ...       ...       ...   \n",
      "1219282  TRAM2  R469  RIT-ROOSEVELT        R  04/02/2020  21:00:00         3   \n",
      "1219283  TRAM2  R469  RIT-ROOSEVELT        R  04/03/2020  01:00:00         3   \n",
      "1219284  TRAM2  R469  RIT-ROOSEVELT        R  04/03/2020  09:00:00         1   \n",
      "1219285  TRAM2  R469  RIT-ROOSEVELT        R  04/03/2020  13:00:00         2   \n",
      "1219286  TRAM2  R469  RIT-ROOSEVELT        R  04/03/2020  21:00:00         1   \n",
      "\n",
      "         ext_diff        LAT       LONG  ZIPCODE    COUNTY  \n",
      "0              12  40.762796 -73.967686    10022  New York  \n",
      "1              75  40.762796 -73.967686    10022  New York  \n",
      "2              78  40.762796 -73.967686    10022  New York  \n",
      "3              92  40.762796 -73.967686    10022  New York  \n",
      "4              60  40.762796 -73.967686    10022  New York  \n",
      "...           ...        ...        ...      ...       ...  \n",
      "1219282         3  40.757400 -73.954006    10021  New York  \n",
      "1219283         6  40.757400 -73.954006    10021  New York  \n",
      "1219284         1  40.757400 -73.954006    10021  New York  \n",
      "1219285         3  40.757400 -73.954006    10021  New York  \n",
      "1219286         3  40.757400 -73.954006    10021  New York  \n",
      "\n",
      "[1219287 rows x 12 columns]\n"
     ]
    }
   ],
   "source": [
    "ny_turnstile = pd.read_csv(\"turnstile.csv\", low_memory=False)\n",
    "print(ny_turnstile)"
   ]
  },
  {
   "cell_type": "code",
   "execution_count": 29,
   "metadata": {},
   "outputs": [
    {
     "data": {
      "text/plain": [
       "111"
      ]
     },
     "execution_count": 29,
     "metadata": {},
     "output_type": "execute_result"
    }
   ],
   "source": [
    "ny_turnstile['ZIPCODE'].nunique()"
   ]
  },
  {
   "cell_type": "code",
   "execution_count": 20,
   "metadata": {},
   "outputs": [
    {
     "name": "stdout",
     "output_type": "stream",
     "text": [
      "        STATEFIPS STATE  zipcode  agi_stub         N1      mars1     MARS2  \\\n",
      "95708          36    NY        0         1  3350620.0  2314770.0  422340.0   \n",
      "95709          36    NY        0         2  2159110.0  1191460.0  437030.0   \n",
      "95710          36    NY        0         3  1326500.0   676010.0  387690.0   \n",
      "95711          36    NY        0         4   848060.0   330830.0  385280.0   \n",
      "95712          36    NY        0         5  1312640.0   329030.0  861720.0   \n",
      "...           ...   ...      ...       ...        ...        ...       ...   \n",
      "104925         36    NY    99999         2    19520.0    11740.0    3990.0   \n",
      "104926         36    NY    99999         3    11940.0     6400.0    3650.0   \n",
      "104927         36    NY    99999         4     7650.0     3370.0    3460.0   \n",
      "104928         36    NY    99999         5    11500.0     4160.0    6610.0   \n",
      "104929         36    NY    99999         6     8420.0     2280.0    5860.0   \n",
      "\n",
      "           MARS4        ELF     CPREP  ...  N85300   A85300    N11901  \\\n",
      "95708   562630.0  3037920.0  163740.0  ...    40.0     22.0  447720.0   \n",
      "95709   481010.0  2004130.0   80180.0  ...    40.0     16.0  302310.0   \n",
      "95710   224500.0  1229660.0   45890.0  ...    20.0     10.0  274880.0   \n",
      "95711   104460.0   786820.0   25200.0  ...    40.0     96.0  199610.0   \n",
      "95712    93390.0  1229260.0   40310.0  ...  4860.0   3610.0  380820.0   \n",
      "...          ...        ...       ...  ...     ...      ...       ...   \n",
      "104925    3230.0    17920.0     700.0  ...     0.0      0.0    2870.0   \n",
      "104926    1610.0    10970.0     470.0  ...     0.0      0.0    2680.0   \n",
      "104927     720.0     7070.0     280.0  ...     0.0      0.0    1820.0   \n",
      "104928     570.0    10670.0     520.0  ...   100.0     27.0    3400.0   \n",
      "104929     250.0     7940.0     520.0  ...  5690.0  98575.0    3410.0   \n",
      "\n",
      "           A11901     N11900     A11900     N11902     A11902   N12000  \\\n",
      "95708    407210.0  2655500.0  5487553.0  2635880.0  5438358.0  22170.0   \n",
      "95709    506708.0  1843050.0  4780158.0  1823880.0  4713767.0  24320.0   \n",
      "95710    622962.0  1049950.0  3031120.0  1029370.0  2944005.0  28150.0   \n",
      "95711    598426.0   643530.0  2303259.0   623770.0  2209664.0  21810.0   \n",
      "95712   1862685.0   929620.0  4679105.0   877410.0  4248133.0  64040.0   \n",
      "...           ...        ...        ...        ...        ...      ...   \n",
      "104925     5286.0    16030.0    39577.0    15670.0    38031.0    280.0   \n",
      "104926     6642.0     8750.0    24307.0     8450.0    22692.0    240.0   \n",
      "104927     5690.0     5290.0    17836.0     4960.0    15986.0    250.0   \n",
      "104928    19257.0     7560.0    38194.0     6760.0    30696.0    770.0   \n",
      "104929   106462.0     4590.0   451743.0     2630.0    58509.0   2020.0   \n",
      "\n",
      "          A12000  \n",
      "95708    40415.0  \n",
      "95709    60615.0  \n",
      "95710    85075.0  \n",
      "95711    83691.0  \n",
      "95712   437606.0  \n",
      "...          ...  \n",
      "104925     832.0  \n",
      "104926     797.0  \n",
      "104927    1155.0  \n",
      "104928    5906.0  \n",
      "104929  348339.0  \n",
      "\n",
      "[9222 rows x 153 columns]\n"
     ]
    }
   ],
   "source": [
    "# iterating the columns \n",
    "ny_zip = df[df[\"STATE\"] == \"NY\"]\n",
    "print(ny_zip)"
   ]
  },
  {
   "cell_type": "code",
   "execution_count": 23,
   "metadata": {},
   "outputs": [
    {
     "name": "stdout",
     "output_type": "stream",
     "text": [
      "        zipcode  agi_stub       A00100\n",
      "95708         0         1   41312407.0\n",
      "95709         0         2   78566565.0\n",
      "95710         0         3   81560100.0\n",
      "95711         0         4   73530398.0\n",
      "95712         0         5  180245335.0\n",
      "...         ...       ...          ...\n",
      "104925    99999         2     709248.0\n",
      "104926    99999         3     734627.0\n",
      "104927    99999         4     661031.0\n",
      "104928    99999         5    1582001.0\n",
      "104929    99999         6   11333608.0\n",
      "\n",
      "[9222 rows x 3 columns]\n"
     ]
    }
   ],
   "source": [
    "ny_zipcodes = ny_zip.loc[:, ['zipcode','agi_stub', 'A00100']]\n",
    "print(ny_zipcodes)"
   ]
  },
  {
   "cell_type": "code",
   "execution_count": 25,
   "metadata": {},
   "outputs": [
    {
     "name": "stdout",
     "output_type": "stream",
     "text": [
      "         zipcode  agi_stub    A00100   C/A  UNIT          STATION  LINENAME  \\\n",
      "0          10001         1   42685.0  A022  R022  34 ST-HERALD SQ  BDFMNQRW   \n",
      "1          10001         1   42685.0  A022  R022  34 ST-HERALD SQ  BDFMNQRW   \n",
      "2          10001         1   42685.0  A022  R022  34 ST-HERALD SQ  BDFMNQRW   \n",
      "3          10001         1   42685.0  A022  R022  34 ST-HERALD SQ  BDFMNQRW   \n",
      "4          10001         1   42685.0  A022  R022  34 ST-HERALD SQ  BDFMNQRW   \n",
      "...          ...       ...       ...   ...   ...              ...       ...   \n",
      "7268653    11694         6  302119.0  N186  R418     BEACH 105 ST        AS   \n",
      "7268654    11694         6  302119.0  N186  R418     BEACH 105 ST        AS   \n",
      "7268655    11694         6  302119.0  N186  R418     BEACH 105 ST        AS   \n",
      "7268656    11694         6  302119.0  N186  R418     BEACH 105 ST        AS   \n",
      "7268657    11694         6  302119.0  N186  R418     BEACH 105 ST        AS   \n",
      "\n",
      "               DATE      TIME  ent_diff  ext_diff        LAT       LONG  \\\n",
      "0        01/04/2020  07:00:00        52        37  40.749533 -73.987899   \n",
      "1        01/04/2020  11:00:00       222       273  40.749533 -73.987899   \n",
      "2        01/04/2020  15:00:00       746       515  40.749533 -73.987899   \n",
      "3        01/04/2020  19:00:00      1221       693  40.749533 -73.987899   \n",
      "4        01/04/2020  23:00:00       814       399  40.749533 -73.987899   \n",
      "...             ...       ...       ...       ...        ...        ...   \n",
      "7268653  04/03/2020  05:00:00         2         4  40.583542 -73.826430   \n",
      "7268654  04/03/2020  09:00:00         2         2  40.583542 -73.826430   \n",
      "7268655  04/03/2020  13:00:00         1         4  40.583542 -73.826430   \n",
      "7268656  04/03/2020  17:00:00         1         9  40.583542 -73.826430   \n",
      "7268657  04/03/2020  21:00:00         1         7  40.583542 -73.826430   \n",
      "\n",
      "         ZIPCODE    COUNTY  \n",
      "0          10001  New York  \n",
      "1          10001  New York  \n",
      "2          10001  New York  \n",
      "3          10001  New York  \n",
      "4          10001  New York  \n",
      "...          ...       ...  \n",
      "7268653    11694    Queens  \n",
      "7268654    11694    Queens  \n",
      "7268655    11694    Queens  \n",
      "7268656    11694    Queens  \n",
      "7268657    11694    Queens  \n",
      "\n",
      "[7268658 rows x 15 columns]\n"
     ]
    }
   ],
   "source": [
    "# Merge on zipcode\n",
    "data = ny_zipcodes.merge(ny_turnstile, left_on = 'zipcode', right_on = 'ZIPCODE', how = 'inner')\n",
    "print(data)"
   ]
  },
  {
   "cell_type": "code",
   "execution_count": 27,
   "metadata": {},
   "outputs": [
    {
     "name": "stdout",
     "output_type": "stream",
     "text": [
      "         zipcode  agi_stub    A00100\n",
      "0          10001         1   42685.0\n",
      "1          10001         1   42685.0\n",
      "2          10001         1   42685.0\n",
      "3          10001         1   42685.0\n",
      "4          10001         1   42685.0\n",
      "...          ...       ...       ...\n",
      "7268653    11694         6  302119.0\n",
      "7268654    11694         6  302119.0\n",
      "7268655    11694         6  302119.0\n",
      "7268656    11694         6  302119.0\n",
      "7268657    11694         6  302119.0\n",
      "\n",
      "[7268658 rows x 3 columns]\n"
     ]
    }
   ],
   "source": [
    "data = data.loc[:, ['zipcode','agi_stub', 'A00100']]\n",
    "print(data)"
   ]
  },
  {
   "cell_type": "code",
   "execution_count": 28,
   "metadata": {},
   "outputs": [
    {
     "data": {
      "text/plain": [
       "110"
      ]
     },
     "execution_count": 28,
     "metadata": {},
     "output_type": "execute_result"
    }
   ],
   "source": [
    "data['zipcode'].nunique()"
   ]
  },
  {
   "cell_type": "code",
   "execution_count": 33,
   "metadata": {},
   "outputs": [
    {
     "name": "stdout",
     "output_type": "stream",
     "text": [
      "         zipcode  agi_stub  Adjusted_gross_income\n",
      "0          10001         1                42685.0\n",
      "48253      10001         2                94622.0\n",
      "96506      10001         3               125439.0\n",
      "144759     10001         4               128019.0\n",
      "193012     10001         5               411915.0\n",
      "...          ...       ...                    ...\n",
      "7262183    11694         2                59757.0\n",
      "7263478    11694         3                77697.0\n",
      "7264773    11694         4                77913.0\n",
      "7266068    11694         5               252222.0\n",
      "7267363    11694         6               302119.0\n",
      "\n",
      "[660 rows x 3 columns]\n"
     ]
    }
   ],
   "source": [
    "data = data.rename(columns={'A00100': 'Adjusted_gross_income'})\n",
    "print(data)"
   ]
  },
  {
   "cell_type": "code",
   "execution_count": 34,
   "metadata": {},
   "outputs": [
    {
     "name": "stdout",
     "output_type": "stream",
     "text": [
      "         zipcode  agi_stub  Adjusted_gross_income\n",
      "0          10001         1                42685.0\n",
      "48253      10001         2                94622.0\n",
      "96506      10001         3               125439.0\n",
      "144759     10001         4               128019.0\n",
      "193012     10001         5               411915.0\n",
      "...          ...       ...                    ...\n",
      "7262183    11694         2                59757.0\n",
      "7263478    11694         3                77697.0\n",
      "7264773    11694         4                77913.0\n",
      "7266068    11694         5               252222.0\n",
      "7267363    11694         6               302119.0\n",
      "\n",
      "[660 rows x 3 columns]\n"
     ]
    }
   ],
   "source": [
    "data = data.drop_duplicates()\n",
    "print(data)"
   ]
  },
  {
   "cell_type": "code",
   "execution_count": 35,
   "metadata": {},
   "outputs": [],
   "source": [
    "data.to_csv(\"ny-zipcode-agi-stub.csv\", index=False)"
   ]
  },
  {
   "cell_type": "code",
   "execution_count": null,
   "metadata": {},
   "outputs": [],
   "source": []
  }
 ],
 "metadata": {
  "kernelspec": {
   "display_name": "Python 3",
   "language": "python",
   "name": "python3"
  },
  "language_info": {
   "codemirror_mode": {
    "name": "ipython",
    "version": 3
   },
   "file_extension": ".py",
   "mimetype": "text/x-python",
   "name": "python",
   "nbconvert_exporter": "python",
   "pygments_lexer": "ipython3",
   "version": "3.8.2"
  }
 },
 "nbformat": 4,
 "nbformat_minor": 4
}
