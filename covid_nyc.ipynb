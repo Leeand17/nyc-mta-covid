{
 "cells": [
  {
   "cell_type": "code",
   "execution_count": 1,
   "metadata": {},
   "outputs": [],
   "source": [
    "import pandas as pd\n",
    "import numpy as np"
   ]
  },
  {
   "cell_type": "code",
   "execution_count": 60,
   "metadata": {
    "scrolled": true
   },
   "outputs": [
    {
     "name": "stdout",
     "output_type": "stream",
     "text": [
      "             date      county       state     fips  cases  deaths\n",
      "0      2020-01-21   Snohomish  Washington  53061.0      1       0\n",
      "1      2020-01-22   Snohomish  Washington  53061.0      1       0\n",
      "2      2020-01-23   Snohomish  Washington  53061.0      1       0\n",
      "3      2020-01-24        Cook    Illinois  17031.0      1       0\n",
      "4      2020-01-24   Snohomish  Washington  53061.0      1       0\n",
      "...           ...         ...         ...      ...    ...     ...\n",
      "45876  2020-04-09    Sublette     Wyoming  56035.0      1       0\n",
      "45877  2020-04-09  Sweetwater     Wyoming  56037.0      6       0\n",
      "45878  2020-04-09       Teton     Wyoming  56039.0     50       0\n",
      "45879  2020-04-09       Uinta     Wyoming  56041.0      4       0\n",
      "45880  2020-04-09    Washakie     Wyoming  56043.0      4       0\n",
      "\n",
      "[45881 rows x 6 columns]\n"
     ]
    }
   ],
   "source": [
    "df = pd.read_csv(\"covid-us-counties.csv\")\n",
    "\n",
    "print(df)"
   ]
  },
  {
   "cell_type": "code",
   "execution_count": 62,
   "metadata": {},
   "outputs": [
    {
     "name": "stdout",
     "output_type": "stream",
     "text": [
      "             date         county  cases  deaths\n",
      "416    2020-03-01  New York City      1       0\n",
      "448    2020-03-02  New York City      1       0\n",
      "482    2020-03-03  New York City      2       0\n",
      "518    2020-03-04  New York City      2       0\n",
      "565    2020-03-05  New York City      4       0\n",
      "627    2020-03-06  New York City      5       0\n",
      "715    2020-03-07  New York City     12       0\n",
      "820    2020-03-08  New York City     14       0\n",
      "947    2020-03-09  New York City     20       0\n",
      "1098   2020-03-10  New York City     37       0\n",
      "1285   2020-03-11  New York City     52       0\n",
      "1521   2020-03-12  New York City     96       0\n",
      "1814   2020-03-13  New York City    155       0\n",
      "2163   2020-03-14  New York City    269       1\n",
      "2574   2020-03-15  New York City    330       5\n",
      "3033   2020-03-16  New York City    464       7\n",
      "3549   2020-03-17  New York City    645      10\n",
      "4150   2020-03-18  New York City   1339      20\n",
      "4879   2020-03-19  New York City   2468      22\n",
      "5728   2020-03-20  New York City   4408      43\n",
      "6722   2020-03-21  New York City   6211      60\n",
      "7817   2020-03-22  New York City   9045      99\n",
      "9015   2020-03-23  New York City  12305     131\n",
      "10326  2020-03-24  New York City  14905     192\n",
      "11767  2020-03-25  New York City  20011     280\n",
      "13380  2020-03-26  New York City  23112     365\n",
      "15124  2020-03-27  New York City  25399     450\n",
      "16964  2020-03-28  New York City  30766     672\n",
      "18902  2020-03-29  New York City  33768     776\n",
      "20952  2020-03-30  New York City  38087     914\n",
      "23093  2020-03-31  New York City  43139    1096\n",
      "25297  2020-04-01  New York City  47440    1374\n",
      "27558  2020-04-02  New York City  51810    1562\n",
      "29880  2020-04-03  New York City  57160    1867\n",
      "32268  2020-04-04  New York City  63307    2254\n",
      "34701  2020-04-05  New York City  67552    2472\n",
      "37174  2020-04-06  New York City  68776    3485\n",
      "39688  2020-04-07  New York City  76876    4009\n",
      "42241  2020-04-08  New York City  81803    4571\n",
      "44818  2020-04-09  New York City  87028    5150\n"
     ]
    }
   ],
   "source": [
    "nyc_counties = [\"New York City\", \"New York\", \"Kings\", \"Bronx\", \"Richmond\", \"Queens\"]\n",
    "\n",
    "ny_covid = df[df[\"county\"] == \"New York City\"]\n",
    "\n",
    "ny_covid = ny_covid.drop(['fips','state'],axis=1)\n",
    "\n",
    "print(ny_covid)"
   ]
  },
  {
   "cell_type": "code",
   "execution_count": 63,
   "metadata": {},
   "outputs": [],
   "source": [
    "ny_covid.to_csv(\"covid-nyc.csv\")"
   ]
  },
  {
   "cell_type": "code",
   "execution_count": 56,
   "metadata": {},
   "outputs": [
    {
     "name": "stdout",
     "output_type": "stream",
     "text": [
      "            Test Date    County New Positives Cumulative Number of Positives  \\\n",
      "2          04/08/2020     Bronx          1166                          17792   \n",
      "23         04/08/2020     Kings          1312                          23394   \n",
      "30         04/08/2020  New York           602                          12106   \n",
      "40         04/08/2020    Queens          1504                          27752   \n",
      "42         04/08/2020  Richmond           641                           5984   \n",
      "...               ...       ...           ...                            ...   \n",
      "2317       03/02/2020     Kings             0                              0   \n",
      "2324       03/02/2020  New York             0                              0   \n",
      "2334       03/02/2020    Queens             0                              0   \n",
      "2336       03/02/2020  Richmond             0                              0   \n",
      "Test Date         NaN       NaN           NaT                            NaT   \n",
      "\n",
      "          Total Number of Tests Performed Cumulative Number of Tests Performed  \n",
      "2                                    2348                                34277  \n",
      "23                                   2565                                45026  \n",
      "30                                   1424                                29083  \n",
      "40                                   2831                                48971  \n",
      "42                                   1528                                13469  \n",
      "...                                   ...                                  ...  \n",
      "2317                                    0                                    0  \n",
      "2324                                    0                                    0  \n",
      "2334                                    0                                    0  \n",
      "2336                                    0                                    0  \n",
      "Test Date                             NaT                                  NaT  \n",
      "\n",
      "[191 rows x 6 columns]\n"
     ]
    }
   ],
   "source": [
    "df = pd.read_csv(\"New_York_State_Statewide_COVID-19_Testing.csv\")\n",
    "covid_by_boro = df[df['County'].isin(nyc_counties)]\n",
    "\n",
    "covid_by_boro.loc['Test Date'] = pd.to_datetime(covid_by_boro['Test Date'])\n",
    "\n",
    "print(covid_by_boro)"
   ]
  },
  {
   "cell_type": "code",
   "execution_count": 57,
   "metadata": {},
   "outputs": [
    {
     "name": "stdout",
     "output_type": "stream",
     "text": [
      "87028\n"
     ]
    }
   ],
   "source": [
    "apr_8 = covid_by_boro[covid_by_boro[\"Test Date\"] == '04/08/2020']\n",
    "apr_8 = apr_8['Cumulative Number of Positives'].sum()\n",
    "print(apr_8)"
   ]
  },
  {
   "cell_type": "code",
   "execution_count": 58,
   "metadata": {},
   "outputs": [],
   "source": [
    "covid_by_boro.to_csv(\"covid-nyc-by-boro.csv\")"
   ]
  },
  {
   "cell_type": "code",
   "execution_count": null,
   "metadata": {},
   "outputs": [],
   "source": []
  }
 ],
 "metadata": {
  "kernelspec": {
   "display_name": "Python 3",
   "language": "python",
   "name": "python3"
  },
  "language_info": {
   "codemirror_mode": {
    "name": "ipython",
    "version": 3
   },
   "file_extension": ".py",
   "mimetype": "text/x-python",
   "name": "python",
   "nbconvert_exporter": "python",
   "pygments_lexer": "ipython3",
   "version": "3.7.4"
  }
 },
 "nbformat": 4,
 "nbformat_minor": 2
}
